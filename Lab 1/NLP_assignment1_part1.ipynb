{
  "nbformat": 4,
  "nbformat_minor": 0,
  "metadata": {
    "colab": {
      "provenance": []
    },
    "kernelspec": {
      "name": "python3",
      "display_name": "Python 3"
    },
    "language_info": {
      "name": "python"
    }
  },
  "cells": [
    {
      "cell_type": "code",
      "source": [
        "!pip install gensim"
      ],
      "metadata": {
        "colab": {
          "base_uri": "https://localhost:8080/",
          "height": 707
        },
        "id": "2yqf9Mn8jmLx",
        "outputId": "041c64b4-387f-4c4c-a1b1-24207d2906e9"
      },
      "execution_count": 1,
      "outputs": [
        {
          "output_type": "stream",
          "name": "stdout",
          "text": [
            "Collecting gensim\n",
            "  Downloading gensim-4.3.3-cp311-cp311-manylinux_2_17_x86_64.manylinux2014_x86_64.whl.metadata (8.1 kB)\n",
            "Collecting numpy<2.0,>=1.18.5 (from gensim)\n",
            "  Downloading numpy-1.26.4-cp311-cp311-manylinux_2_17_x86_64.manylinux2014_x86_64.whl.metadata (61 kB)\n",
            "\u001b[2K     \u001b[90m━━━━━━━━━━━━━━━━━━━━━━━━━━━━━━━━━━━━━━━━\u001b[0m \u001b[32m61.0/61.0 kB\u001b[0m \u001b[31m2.6 MB/s\u001b[0m eta \u001b[36m0:00:00\u001b[0m\n",
            "\u001b[?25hCollecting scipy<1.14.0,>=1.7.0 (from gensim)\n",
            "  Downloading scipy-1.13.1-cp311-cp311-manylinux_2_17_x86_64.manylinux2014_x86_64.whl.metadata (60 kB)\n",
            "\u001b[2K     \u001b[90m━━━━━━━━━━━━━━━━━━━━━━━━━━━━━━━━━━━━━━━━\u001b[0m \u001b[32m60.6/60.6 kB\u001b[0m \u001b[31m3.5 MB/s\u001b[0m eta \u001b[36m0:00:00\u001b[0m\n",
            "\u001b[?25hRequirement already satisfied: smart-open>=1.8.1 in /usr/local/lib/python3.11/dist-packages (from gensim) (7.3.0.post1)\n",
            "Requirement already satisfied: wrapt in /usr/local/lib/python3.11/dist-packages (from smart-open>=1.8.1->gensim) (1.17.2)\n",
            "Downloading gensim-4.3.3-cp311-cp311-manylinux_2_17_x86_64.manylinux2014_x86_64.whl (26.7 MB)\n",
            "\u001b[2K   \u001b[90m━━━━━━━━━━━━━━━━━━━━━━━━━━━━━━━━━━━━━━━━\u001b[0m \u001b[32m26.7/26.7 MB\u001b[0m \u001b[31m56.6 MB/s\u001b[0m eta \u001b[36m0:00:00\u001b[0m\n",
            "\u001b[?25hDownloading numpy-1.26.4-cp311-cp311-manylinux_2_17_x86_64.manylinux2014_x86_64.whl (18.3 MB)\n",
            "\u001b[2K   \u001b[90m━━━━━━━━━━━━━━━━━━━━━━━━━━━━━━━━━━━━━━━━\u001b[0m \u001b[32m18.3/18.3 MB\u001b[0m \u001b[31m75.4 MB/s\u001b[0m eta \u001b[36m0:00:00\u001b[0m\n",
            "\u001b[?25hDownloading scipy-1.13.1-cp311-cp311-manylinux_2_17_x86_64.manylinux2014_x86_64.whl (38.6 MB)\n",
            "\u001b[2K   \u001b[90m━━━━━━━━━━━━━━━━━━━━━━━━━━━━━━━━━━━━━━━━\u001b[0m \u001b[32m38.6/38.6 MB\u001b[0m \u001b[31m11.7 MB/s\u001b[0m eta \u001b[36m0:00:00\u001b[0m\n",
            "\u001b[?25hInstalling collected packages: numpy, scipy, gensim\n",
            "  Attempting uninstall: numpy\n",
            "    Found existing installation: numpy 2.0.2\n",
            "    Uninstalling numpy-2.0.2:\n",
            "      Successfully uninstalled numpy-2.0.2\n",
            "  Attempting uninstall: scipy\n",
            "    Found existing installation: scipy 1.16.0\n",
            "    Uninstalling scipy-1.16.0:\n",
            "      Successfully uninstalled scipy-1.16.0\n",
            "\u001b[31mERROR: pip's dependency resolver does not currently take into account all the packages that are installed. This behaviour is the source of the following dependency conflicts.\n",
            "opencv-python 4.12.0.88 requires numpy<2.3.0,>=2; python_version >= \"3.9\", but you have numpy 1.26.4 which is incompatible.\n",
            "opencv-python-headless 4.12.0.88 requires numpy<2.3.0,>=2; python_version >= \"3.9\", but you have numpy 1.26.4 which is incompatible.\n",
            "opencv-contrib-python 4.12.0.88 requires numpy<2.3.0,>=2; python_version >= \"3.9\", but you have numpy 1.26.4 which is incompatible.\n",
            "tsfresh 0.21.0 requires scipy>=1.14.0; python_version >= \"3.10\", but you have scipy 1.13.1 which is incompatible.\n",
            "thinc 8.3.6 requires numpy<3.0.0,>=2.0.0, but you have numpy 1.26.4 which is incompatible.\u001b[0m\u001b[31m\n",
            "\u001b[0mSuccessfully installed gensim-4.3.3 numpy-1.26.4 scipy-1.13.1\n"
          ]
        },
        {
          "output_type": "display_data",
          "data": {
            "application/vnd.colab-display-data+json": {
              "pip_warning": {
                "packages": [
                  "numpy"
                ]
              },
              "id": "b9a39c4f4811454eb394d50a2600b5e9"
            }
          },
          "metadata": {}
        }
      ]
    },
    {
      "cell_type": "code",
      "execution_count": 1,
      "metadata": {
        "colab": {
          "base_uri": "https://localhost:8080/"
        },
        "id": "PzgBwFa5jc2-",
        "outputId": "88318670-efe7-4991-917d-3a96740fa2b6"
      },
      "outputs": [
        {
          "output_type": "stream",
          "name": "stdout",
          "text": [
            "Downloading the model... This may take a while.\n",
            "[==================================================] 100.0% 1662.8/1662.8MB downloaded\n",
            "Model downloaded successfully!\n"
          ]
        }
      ],
      "source": [
        "import gensim.downloader as api\n",
        "\n",
        "print(\"Downloading the model... This may take a while.\")\n",
        "model = api.load(\"word2vec-google-news-300\")\n",
        "print(\"Model downloaded successfully!\")"
      ]
    },
    {
      "cell_type": "code",
      "source": [
        "# Pick 5 words of your choice\n",
        "my_words = [\"cat\", \"computer\", \"ocean\", \"happiness\", \"doctor\"]\n",
        "\n",
        "print(\"\\n--- Similar Words ---\")\n",
        "for word in my_words:\n",
        "    if word in model.key_to_index:\n",
        "        print(f\"\\nWords similar to '{word}':\")\n",
        "        try:\n",
        "            similar_words = model.most_similar(word, topn=5)\n",
        "            for sim_word, similarity in similar_words:\n",
        "                print(f\"  - {sim_word}: {similarity:.4f}\")\n",
        "        except KeyError:\n",
        "            print(f\"  '{word}' not found in the vocabulary.\")\n",
        "    else:\n",
        "        print(f\"\\n'{word}' not found in the model's vocabulary.\")"
      ],
      "metadata": {
        "colab": {
          "base_uri": "https://localhost:8080/"
        },
        "id": "9E41cMMtjeDn",
        "outputId": "da81507e-2faa-48ea-ac07-baa70f7d962d"
      },
      "execution_count": 2,
      "outputs": [
        {
          "output_type": "stream",
          "name": "stdout",
          "text": [
            "\n",
            "--- Similar Words ---\n",
            "\n",
            "Words similar to 'cat':\n",
            "  - cats: 0.8099\n",
            "  - dog: 0.7609\n",
            "  - kitten: 0.7465\n",
            "  - feline: 0.7326\n",
            "  - beagle: 0.7151\n",
            "\n",
            "Words similar to 'computer':\n",
            "  - computers: 0.7979\n",
            "  - laptop: 0.6640\n",
            "  - laptop_computer: 0.6549\n",
            "  - Computer: 0.6473\n",
            "  - com_puter: 0.6082\n",
            "\n",
            "Words similar to 'ocean':\n",
            "  - sea: 0.7644\n",
            "  - oceans: 0.7483\n",
            "  - Pacific_Ocean: 0.7037\n",
            "  - Atlantic_Ocean: 0.6659\n",
            "  - oceanic: 0.6610\n",
            "\n",
            "Words similar to 'happiness':\n",
            "  - contentment: 0.7695\n",
            "  - joy: 0.6183\n",
            "  - Happiness: 0.6116\n",
            "  - hapiness: 0.5749\n",
            "  - contentedness: 0.5575\n",
            "\n",
            "Words similar to 'doctor':\n",
            "  - physician: 0.7806\n",
            "  - doctors: 0.7477\n",
            "  - gynecologist: 0.6948\n",
            "  - surgeon: 0.6793\n",
            "  - dentist: 0.6785\n"
          ]
        }
      ]
    },
    {
      "cell_type": "code",
      "source": [
        "print(\"\\n--- Analogy Examples ---\")\n",
        "\n",
        "# Example 1: Gender analogy\n",
        "# king - man + woman = queen\n",
        "try:\n",
        "    result_1 = model.most_similar(positive=['woman', 'king'], negative=['man'], topn=1)\n",
        "    print(f\"\\nKing - Man + Woman = {result_1[0][0]} (similarity: {result_1[0][1]:.4f})\")\n",
        "except KeyError as e:\n",
        "    print(f\"\\nError in Example 1: {e}. Make sure all words exist in the vocabulary.\")\n",
        "\n",
        "# Example 2: Capital City analogy\n",
        "# Paris - France + Italy = Rome\n",
        "try:\n",
        "    result_2 = model.most_similar(positive=['Paris', 'Italy'], negative=['France'], topn=1)\n",
        "    print(f\"\\nParis - France + Italy = {result_2[0][0]} (similarity: {result_2[0][1]:.4f})\")\n",
        "except KeyError as e:\n",
        "    print(f\"\\nError in Example 2: {e}. Make sure all words exist in the vocabulary.\")\n",
        "\n",
        "# Example 3: Verb Tense analogy\n",
        "# walked - walking + singing = sang (This one can be a bit trickier and less consistent)\n",
        "try:\n",
        "    result_3 = model.most_similar(positive=['walked', 'singing'], negative=['walking'], topn=1)\n",
        "    print(f\"\\nWalked - Walking + Singing = {result_3[0][0]} (similarity: {result_3[0][1]:.4f})\")\n",
        "except KeyError as e:\n",
        "    print(f\"\\nError in Example 3: {e}. Make sure all words exist in the vocabulary.\")"
      ],
      "metadata": {
        "colab": {
          "base_uri": "https://localhost:8080/"
        },
        "id": "OX20xB8QlCAT",
        "outputId": "db2714cf-ad5a-4d71-e3ff-0dff0fbd5592"
      },
      "execution_count": 3,
      "outputs": [
        {
          "output_type": "stream",
          "name": "stdout",
          "text": [
            "\n",
            "--- Analogy Examples ---\n",
            "\n",
            "King - Man + Woman = queen (similarity: 0.7118)\n",
            "\n",
            "Paris - France + Italy = Milan (similarity: 0.7222)\n",
            "\n",
            "Walked - Walking + Singing = sang (similarity: 0.7862)\n"
          ]
        }
      ]
    },
    {
      "cell_type": "code",
      "source": [
        "import pandas as pd\n",
        "import numpy as np\n",
        "import re\n",
        "import nltk\n",
        "from nltk.corpus import stopwords\n",
        "from nltk.tokenize import word_tokenize\n",
        "from gensim.models import Word2Vec, FastText\n",
        "from sklearn.model_selection import train_test_split\n",
        "from sklearn.linear_model import LogisticRegression\n",
        "from sklearn.metrics import accuracy_score, precision_score, recall_score, f1_score\n",
        "import matplotlib.pyplot as plt\n",
        "import seaborn as sns"
      ],
      "metadata": {
        "id": "wNMeHSz3ln-3"
      },
      "execution_count": 4,
      "outputs": []
    },
    {
      "cell_type": "code",
      "source": [
        "\n",
        "# Download NLTK data\n",
        "nltk.download('punkt')\n",
        "nltk.download('stopwords')\n"
      ],
      "metadata": {
        "colab": {
          "base_uri": "https://localhost:8080/"
        },
        "id": "Rv9uQJPqnLUK",
        "outputId": "976262e5-73f0-4006-a5f8-06985042674d"
      },
      "execution_count": 5,
      "outputs": [
        {
          "output_type": "stream",
          "name": "stderr",
          "text": [
            "[nltk_data] Downloading package punkt to /root/nltk_data...\n",
            "[nltk_data]   Unzipping tokenizers/punkt.zip.\n",
            "[nltk_data] Downloading package stopwords to /root/nltk_data...\n",
            "[nltk_data]   Unzipping corpora/stopwords.zip.\n"
          ]
        },
        {
          "output_type": "execute_result",
          "data": {
            "text/plain": [
              "True"
            ]
          },
          "metadata": {},
          "execution_count": 5
        }
      ]
    },
    {
      "cell_type": "code",
      "source": [
        "\n",
        "# ==============================================================================\n",
        "# 1. DATA LOADING AND EDA\n",
        "# ==============================================================================\n",
        "\n",
        "print(\"--- 1. DATA LOADING AND EDA ---\")\n",
        "# Load the dataset\n",
        "df = pd.read_csv('/content/IMDB Dataset.csv')\n",
        "\n",
        "# Display basic information\n",
        "print(\"\\nDataFrame Info:\")\n",
        "df.info()\n",
        "\n",
        "# Display the first few rows\n",
        "print(\"\\nHead of the dataset:\")\n",
        "print(df.head())\n",
        "\n",
        "# Check sentiment distribution\n",
        "print(\"\\nSentiment Distribution:\")\n",
        "print(df['sentiment'].value_counts())\n",
        "sns.countplot(x='sentiment', data=df)\n",
        "plt.title('Sentiment Distribution')\n",
        "plt.show()\n",
        "\n",
        "# Map sentiment labels to numerical values\n",
        "df['sentiment'] = df['sentiment'].map({'positive': 1, 'negative': 0})\n",
        "\n",
        "# Analyze review length\n",
        "df['review_length'] = df['review'].apply(lambda x: len(x.split()))\n",
        "print(\"\\nReview Length Statistics:\")\n",
        "print(df['review_length'].describe())\n",
        "sns.histplot(df['review_length'], bins=50)\n",
        "plt.title('Distribution of Review Lengths')\n",
        "plt.show()\n"
      ],
      "metadata": {
        "id": "Rx_MLlv9l5DT",
        "colab": {
          "base_uri": "https://localhost:8080/",
          "height": 1000
        },
        "outputId": "7c12d11d-7196-40cf-a764-cc2afed44e69"
      },
      "execution_count": 6,
      "outputs": [
        {
          "output_type": "stream",
          "name": "stdout",
          "text": [
            "--- 1. DATA LOADING AND EDA ---\n",
            "\n",
            "DataFrame Info:\n",
            "<class 'pandas.core.frame.DataFrame'>\n",
            "RangeIndex: 50000 entries, 0 to 49999\n",
            "Data columns (total 2 columns):\n",
            " #   Column     Non-Null Count  Dtype \n",
            "---  ------     --------------  ----- \n",
            " 0   review     50000 non-null  object\n",
            " 1   sentiment  50000 non-null  object\n",
            "dtypes: object(2)\n",
            "memory usage: 781.4+ KB\n",
            "\n",
            "Head of the dataset:\n",
            "                                              review sentiment\n",
            "0  One of the other reviewers has mentioned that ...  positive\n",
            "1  A wonderful little production. <br /><br />The...  positive\n",
            "2  I thought this was a wonderful way to spend ti...  positive\n",
            "3  Basically there's a family where a little boy ...  negative\n",
            "4  Petter Mattei's \"Love in the Time of Money\" is...  positive\n",
            "\n",
            "Sentiment Distribution:\n",
            "sentiment\n",
            "positive    25000\n",
            "negative    25000\n",
            "Name: count, dtype: int64\n"
          ]
        },
        {
          "output_type": "display_data",
          "data": {
            "text/plain": [
              "<Figure size 640x480 with 1 Axes>"
            ],
            "image/png": "[encoded data removed]"
          },
          "metadata": {}
        },
        {
          "output_type": "stream",
          "name": "stdout",
          "text": [
            "\n",
            "Review Length Statistics:\n",
            "count    50000.000000\n",
            "mean       231.156940\n",
            "std        171.343997\n",
            "min          4.000000\n",
            "25%        126.000000\n",
            "50%        173.000000\n",
            "75%        280.000000\n",
            "max       2470.000000\n",
            "Name: review_length, dtype: float64\n"
          ]
        },
        {
          "output_type": "display_data",
          "data": {
            "text/plain": [
              "<Figure size 640x480 with 1 Axes>"
            ],
            "image/png": "[encoded data removed]"
          },
          "metadata": {}
        }
      ]
    },
    {
      "cell_type": "code",
      "source": [
        "import nltk\n",
        "nltk.download('punkt_tab')\n",
        "\n",
        "# ==============================================================================\n",
        "# 2. TEXT CLEANING AND PREPROCESSING\n",
        "# ==============================================================================\n",
        "\n",
        "print(\"\\n--- 2. TEXT CLEANING AND PREPROCESSING ---\")\n",
        "# Get the set of English stopwords\n",
        "stop_words = set(stopwords.words('english'))\n",
        "\n",
        "def clean_text(text):\n",
        "    \"\"\"\n",
        "    Cleans the input text by:\n",
        "    1. Removing HTML tags\n",
        "    2. Removing non-alphabetic characters and digits\n",
        "    3. Converting to lowercase\n",
        "    4. Tokenizing the text\n",
        "    5. Removing stopwords\n",
        "    6. Joining the tokens back into a string\n",
        "    \"\"\"\n",
        "    # 1. Remove HTML tags\n",
        "    clean_text = re.sub(r'<.*?>', '', text)\n",
        "    # 2. Remove non-alphabetic characters and digits, and lowercase\n",
        "    clean_text = re.sub(r'[^a-zA-Z]', ' ', clean_text).lower()\n",
        "    # 3. Tokenize\n",
        "    tokens = word_tokenize(clean_text)\n",
        "    # 4. Remove stopwords\n",
        "    filtered_tokens = [word for word in tokens if word not in stop_words and len(word) > 1]\n",
        "    return filtered_tokens\n",
        "\n",
        "# # Apply the cleaning function to the reviews\n",
        "print(\"Cleaning and tokenizing reviews...\")\n",
        "df['clean_review'] = df['review'].apply(clean_text)\n",
        "print(\"Cleaning complete.\")\n",
        "print(\"\\nFirst cleaned review:\")\n",
        "print(df['clean_review'].iloc[0])\n",
        "\n"
      ],
      "metadata": {
        "colab": {
          "base_uri": "https://localhost:8080/"
        },
        "id": "3bXyOqsGnX0D",
        "outputId": "d3de36ee-9a6e-454c-a9c6-284209d9ebd9"
      },
      "execution_count": 12,
      "outputs": [
        {
          "output_type": "stream",
          "name": "stdout",
          "text": [
            "\n",
            "--- 2. TEXT CLEANING AND PREPROCESSING ---\n",
            "Cleaning and tokenizing reviews...\n",
            "Cleaning complete.\n",
            "\n",
            "First cleaned review:\n",
            "['one', 'reviewers', 'mentioned', 'watching', 'oz', 'episode', 'hooked', 'right', 'exactly', 'happened', 'first', 'thing', 'struck', 'oz', 'brutality', 'unflinching', 'scenes', 'violence', 'set', 'right', 'word', 'go', 'trust', 'show', 'faint', 'hearted', 'timid', 'show', 'pulls', 'punches', 'regards', 'drugs', 'sex', 'violence', 'hardcore', 'classic', 'use', 'word', 'called', 'oz', 'nickname', 'given', 'oswald', 'maximum', 'security', 'state', 'penitentary', 'focuses', 'mainly', 'emerald', 'city', 'experimental', 'section', 'prison', 'cells', 'glass', 'fronts', 'face', 'inwards', 'privacy', 'high', 'agenda', 'em', 'city', 'home', 'many', 'aryans', 'muslims', 'gangstas', 'latinos', 'christians', 'italians', 'irish', 'scuffles', 'death', 'stares', 'dodgy', 'dealings', 'shady', 'agreements', 'never', 'far', 'away', 'would', 'say', 'main', 'appeal', 'show', 'due', 'fact', 'goes', 'shows', 'dare', 'forget', 'pretty', 'pictures', 'painted', 'mainstream', 'audiences', 'forget', 'charm', 'forget', 'romance', 'oz', 'mess', 'around', 'first', 'episode', 'ever', 'saw', 'struck', 'nasty', 'surreal', 'say', 'ready', 'watched', 'developed', 'taste', 'oz', 'got', 'accustomed', 'high', 'levels', 'graphic', 'violence', 'violence', 'injustice', 'crooked', 'guards', 'sold', 'nickel', 'inmates', 'kill', 'order', 'get', 'away', 'well', 'mannered', 'middle', 'class', 'inmates', 'turned', 'prison', 'bitches', 'due', 'lack', 'street', 'skills', 'prison', 'experience', 'watching', 'oz', 'may', 'become', 'comfortable', 'uncomfortable', 'viewing', 'thats', 'get', 'touch', 'darker', 'side']\n"
          ]
        }
      ]
    },
    {
      "cell_type": "code",
      "source": [
        "\n",
        "# ==============================================================================\n",
        "# 3. WORD VECTORIZATION & MODEL TRAINING\n",
        "# ==============================================================================\n",
        "\n",
        "# Helper function to create document vectors by averaging word vectors\n",
        "def document_vector(model, doc):\n",
        "    \"\"\"\n",
        "    Creates a document vector by averaging the word vectors of all words in the document.\n",
        "    Handles words not in the model's vocabulary by skipping them.\n",
        "    \"\"\"\n",
        "    # Filter out words not in the model's vocabulary\n",
        "    doc = [word for word in doc if word in model.index_to_key]\n",
        "    if len(doc) == 0:\n",
        "        return np.zeros(model.vector_size)\n",
        "    return np.mean(model[doc], axis=0)\n",
        "\n",
        "\n",
        "# Split the data into training and testing sets\n",
        "X_train_raw, X_test_raw, y_train, y_test = train_test_split(\n",
        "    df['clean_review'], df['sentiment'], test_size=0.2, random_state=42\n",
        ")\n",
        "\n",
        "# Initialize a dictionary to store model results\n",
        "results = {}\n",
        "\n",
        "def train_and_evaluate(X_train, X_test, y_train, y_test, model_name):\n",
        "    \"\"\"\n",
        "    Trains a Logistic Regression model and evaluates its performance.\n",
        "    \"\"\"\n",
        "    print(f\"\\n--- Training with {model_name} vectors ---\")\n",
        "\n",
        "    # Check if there are any non-zero vectors in the training data\n",
        "    if not np.any(np.sum(X_train, axis=1)):\n",
        "        print(f\"Warning: All vectors for {model_name} are zero. Skipping model training.\")\n",
        "        return {'accuracy': 0, 'precision': 0, 'recall': 0, 'f1_score': 0}\n",
        "\n",
        "    # Train a Logistic Regression model\n",
        "    lr_model = LogisticRegression(max_iter=1000, random_state=42)\n",
        "    lr_model.fit(X_train, y_train)\n",
        "\n",
        "    # Predict on the test data\n",
        "    y_pred = lr_model.predict(X_test)\n",
        "\n",
        "    # Calculate metrics\n",
        "    accuracy = accuracy_score(y_test, y_pred)\n",
        "    precision = precision_score(y_test, y_pred)\n",
        "    recall = recall_score(y_test, y_pred)\n",
        "    f1 = f1_score(y_test, y_pred)\n",
        "\n",
        "    print(f\"Accuracy: {accuracy:.4f}\")\n",
        "    print(f\"Precision: {precision:.4f}\")\n",
        "    print(f\"Recall: {recall:.4f}\")\n",
        "    print(f\"F1-Score: {f1:.4f}\")\n",
        "\n",
        "    return {'accuracy': accuracy, 'precision': precision, 'recall': recall, 'f1_score': f1}\n",
        "\n",
        "# --- A. Pre-trained Word2Vec (Google News) ---\n",
        "# NOTE: This part requires downloading a large file.\n",
        "# You can skip this part to run the code quickly or\n",
        "# download the model from: https://code.google.com/archive/p/word2vec/\n",
        "# and place the file 'GoogleNews-vectors-negative300.bin' in the project directory.\n",
        "\n",
        "try:\n",
        "    print(\"\\n--- A. Pre-trained Word2Vec Model ---\")\n",
        "    from gensim.models import KeyedVectors\n",
        "    pretrained_model_path = 'GoogleNews-vectors-negative300.bin'\n",
        "    pretrained_w2v = KeyedVectors.load_word2vec_format(pretrained_model_path, binary=True)\n",
        "\n",
        "    print(\"Converting reviews to vectors using pre-trained Word2Vec...\")\n",
        "    X_train_w2v = np.array([document_vector(pretrained_w2v, doc) for doc in X_train_raw])\n",
        "    X_test_w2v = np.array([document_vector(pretrained_w2v, doc) for doc in X_test_raw])\n",
        "\n",
        "    results['Pre-trained W2V'] = train_and_evaluate(X_train_w2v, X_test_w2v, y_train, y_test, \"Pre-trained Word2Vec\")\n",
        "\n",
        "except FileNotFoundError:\n",
        "    print(\"Pre-trained Word2Vec model file not found. Skipping this step.\")\n",
        "    results['Pre-trained W2V'] = {'accuracy': 0, 'precision': 0, 'recall': 0, 'f1_score': 0}\n",
        "\n",
        "\n",
        "# --- B. Custom Skip-gram Word2Vec ---\n",
        "print(\"\\n--- B. Custom Skip-gram Word2Vec ---\")\n",
        "print(\"Training custom Skip-gram model...\")\n",
        "custom_skipgram_model = Word2Vec(\n",
        "    sentences=X_train_raw, # Use cleaned tokens from training set\n",
        "    sg=1,                  # 1 for Skip-gram\n",
        "    vector_size=100,\n",
        "    window=5,\n",
        "    min_count=2,           # Min count 2 is a good practice for real data\n",
        "    workers=4\n",
        ")\n",
        "custom_skipgram_wv = custom_skipgram_model.wv\n",
        "\n",
        "print(\"Converting reviews to vectors using custom Skip-gram...\")\n",
        "X_train_sg = np.array([document_vector(custom_skipgram_wv, doc) for doc in X_train_raw])\n",
        "X_test_sg = np.array([document_vector(custom_skipgram_wv, doc) for doc in X_test_raw])\n",
        "\n",
        "results['Custom Skip-gram'] = train_and_evaluate(X_train_sg, X_test_sg, y_train, y_test, \"Custom Skip-gram\")\n",
        "\n",
        "\n",
        "# --- C. Custom CBoW Word2Vec ---\n",
        "print(\"\\n--- C. Custom CBoW Word2Vec ---\")\n",
        "print(\"Training custom CBoW model...\")\n",
        "custom_cbow_model = Word2Vec(\n",
        "    sentences=X_train_raw, # Use cleaned tokens from training set\n",
        "    sg=0,                  # 0 for CBoW\n",
        "    vector_size=100,\n",
        "    window=5,\n",
        "    min_count=2,\n",
        "    workers=4\n",
        ")\n",
        "custom_cbow_wv = custom_cbow_model.wv\n",
        "\n",
        "print(\"Converting reviews to vectors using custom CBoW...\")\n",
        "X_train_cbow = np.array([document_vector(custom_cbow_wv, doc) for doc in X_train_raw])\n",
        "X_test_cbow = np.array([document_vector(custom_cbow_wv, doc) for doc in X_test_raw])\n",
        "\n",
        "results['Custom CBoW'] = train_and_evaluate(X_train_cbow, X_test_cbow, y_train, y_test, \"Custom CBoW\")\n",
        "\n",
        "\n",
        "# --- D. Custom FastText ---\n",
        "print(\"\\n--- D. Custom FastText ---\")\n",
        "print(\"Training custom FastText model...\")\n",
        "custom_fasttext_model = FastText(\n",
        "    sentences=X_train_raw, # Use cleaned tokens from training set\n",
        "    vector_size=100,\n",
        "    window=5,\n",
        "    min_count=2,\n",
        "    workers=4\n",
        ")\n",
        "custom_fasttext_wv = custom_fasttext_model.wv\n",
        "\n",
        "print(\"Converting reviews to vectors using custom FastText...\")\n",
        "X_train_ft = np.array([document_vector(custom_fasttext_wv, doc) for doc in X_train_raw])\n",
        "X_test_ft = np.array([document_vector(custom_fasttext_wv, doc) for doc in X_test_raw])\n",
        "\n",
        "results['Custom FastText'] = train_and_evaluate(X_train_ft, X_test_ft, y_train, y_test, \"Custom FastText\")"
      ],
      "metadata": {
        "colab": {
          "base_uri": "https://localhost:8080/"
        },
        "id": "g-9HQCvOneSd",
        "outputId": "465a00da-5380-4506-fd01-4db05386b9b7"
      },
      "execution_count": 13,
      "outputs": [
        {
          "output_type": "stream",
          "name": "stdout",
          "text": [
            "\n",
            "--- A. Pre-trained Word2Vec Model ---\n",
            "Pre-trained Word2Vec model file not found. Skipping this step.\n",
            "\n",
            "--- B. Custom Skip-gram Word2Vec ---\n",
            "Training custom Skip-gram model...\n",
            "Converting reviews to vectors using custom Skip-gram...\n",
            "\n",
            "--- Training with Custom Skip-gram vectors ---\n",
            "Accuracy: 0.8739\n",
            "Precision: 0.8721\n",
            "Recall: 0.8785\n",
            "F1-Score: 0.8753\n",
            "\n",
            "--- C. Custom CBoW Word2Vec ---\n",
            "Training custom CBoW model...\n",
            "Converting reviews to vectors using custom CBoW...\n",
            "\n",
            "--- Training with Custom CBoW vectors ---\n",
            "Accuracy: 0.8596\n",
            "Precision: 0.8552\n",
            "Recall: 0.8684\n",
            "F1-Score: 0.8618\n",
            "\n",
            "--- D. Custom FastText ---\n",
            "Training custom FastText model...\n",
            "Converting reviews to vectors using custom FastText...\n",
            "\n",
            "--- Training with Custom FastText vectors ---\n",
            "Accuracy: 0.8440\n",
            "Precision: 0.8395\n",
            "Recall: 0.8535\n",
            "F1-Score: 0.8465\n"
          ]
        }
      ]
    },
    {
      "cell_type": "code",
      "source": [
        "# ==============================================================================\n",
        "# 4. TABULATE MODEL PERFORMANCE STATS\n",
        "# ==============================================================================\n",
        "\n",
        "print(\"\\n--- 4. TABULATING MODEL PERFORMANCE ---\")\n",
        "results_df = pd.DataFrame(results).T\n",
        "print(\"\\nModel Performance Summary:\")\n",
        "print(results_df)\n",
        "\n",
        "# Plot the results\n",
        "results_df.plot(kind='bar', figsize=(12, 7))\n",
        "plt.title('Performance Comparison of Word Vector Models')\n",
        "plt.ylabel('Score')\n",
        "plt.ylim(0.5, 1.0) # Set a reasonable y-axis range\n",
        "plt.xticks(rotation=45, ha='right')\n",
        "plt.legend(bbox_to_anchor=(1.05, 1), loc='upper left')\n",
        "plt.tight_layout()\n",
        "plt.show()\n",
        "\n",
        "# --- Optional: Add a comment column to the DataFrame ---\n",
        "comments = {\n",
        "    'Pre-trained W2V': 'Trained on a large generic corpus (Google News), might perform well but could miss domain-specific nuances.',\n",
        "    'Custom Skip-gram': 'Trained on our dataset, capturing specific relationships within movie reviews. Good for semantic understanding.',\n",
        "    'Custom CBoW': 'Trained on our dataset, focuses on context. Generally faster than Skip-gram.',\n",
        "    'Custom FastText': 'Trained on our dataset, handles out-of-vocabulary words well due to character n-grams. Expected to be robust.'\n",
        "}\n",
        "results_df['Comments'] = results_df.index.map(comments)\n",
        "\n",
        "print(\"\\nFinal Tabulated Results with Comments:\")\n",
        "print(results_df)\n"
      ],
      "metadata": {
        "colab": {
          "base_uri": "https://localhost:8080/",
          "height": 942
        },
        "id": "_PKFO0A8pB-5",
        "outputId": "1b30a5b3-24ba-4b06-fca7-8c59e47b7df2"
      },
      "execution_count": 14,
      "outputs": [
        {
          "output_type": "stream",
          "name": "stdout",
          "text": [
            "\n",
            "--- 4. TABULATING MODEL PERFORMANCE ---\n",
            "\n",
            "Model Performance Summary:\n",
            "                  accuracy  precision    recall  f1_score\n",
            "Pre-trained W2V     0.0000   0.000000  0.000000  0.000000\n",
            "Custom Skip-gram    0.8739   0.872143  0.878547  0.875334\n",
            "Custom CBoW         0.8596   0.855189  0.868426  0.861757\n",
            "Custom FastText     0.8440   0.839547  0.853542  0.846487\n"
          ]
        },
        {
          "output_type": "display_data",
          "data": {
            "text/plain": [
              "<Figure size 1200x700 with 1 Axes>"
            ],
            "image/png": "[encoded data removed]"
          },
          "metadata": {}
        },
        {
          "output_type": "stream",
          "name": "stdout",
          "text": [
            "\n",
            "Final Tabulated Results with Comments:\n",
            "                  accuracy  precision    recall  f1_score  \\\n",
            "Pre-trained W2V     0.0000   0.000000  0.000000  0.000000   \n",
            "Custom Skip-gram    0.8739   0.872143  0.878547  0.875334   \n",
            "Custom CBoW         0.8596   0.855189  0.868426  0.861757   \n",
            "Custom FastText     0.8440   0.839547  0.853542  0.846487   \n",
            "\n",
            "                                                           Comments  \n",
            "Pre-trained W2V   Trained on a large generic corpus (Google News...  \n",
            "Custom Skip-gram  Trained on our dataset, capturing specific rel...  \n",
            "Custom CBoW       Trained on our dataset, focuses on context. Ge...  \n",
            "Custom FastText   Trained on our dataset, handles out-of-vocabul...  \n"
          ]
        }
      ]
    }
  ]
}
